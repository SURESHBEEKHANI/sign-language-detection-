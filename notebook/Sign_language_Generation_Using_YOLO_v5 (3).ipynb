{
 "cells": [
  {
   "cell_type": "code",
   "execution_count": 1,
   "metadata": {
    "id": "HF4nXWcnw5Di"
   },
   "outputs": [
    {
     "name": "stderr",
     "output_type": "stream",
     "text": [
      "'nvidia-smi' is not recognized as an internal or external command,\n",
      "operable program or batch file.\n"
     ]
    }
   ],
   "source": [
    "!nvidia-smi"
   ]
  },
  {
   "cell_type": "code",
   "execution_count": 2,
   "metadata": {
    "id": "UepITY4SxHGn"
   },
   "outputs": [
    {
     "name": "stdout",
     "output_type": "stream",
     "text": [
      "[WinError 2] The system cannot find the file specified: 'yolov5'\n",
      "d:\\sign-language-detection-\\notebook\n"
     ]
    },
    {
     "name": "stderr",
     "output_type": "stream",
     "text": [
      "fatal: Too many arguments.\n",
      "\n",
      "usage: git clone [<options>] [--] <repo> [<dir>]\n",
      "\n",
      "    -v, --[no-]verbose    be more verbose\n",
      "    -q, --[no-]quiet      be more quiet\n",
      "    --[no-]progress       force progress reporting\n",
      "    --[no-]reject-shallow don't clone shallow repository\n",
      "    -n, --no-checkout     don't create a checkout\n",
      "    --checkout            opposite of --no-checkout\n",
      "    --[no-]bare           create a bare repository\n",
      "    --[no-]mirror         create a mirror repository (implies --bare)\n",
      "    -l, --[no-]local      to clone from a local repository\n",
      "    --no-hardlinks        don't use local hardlinks, always copy\n",
      "    --hardlinks           opposite of --no-hardlinks\n",
      "    -s, --[no-]shared     setup as shared repository\n",
      "    --[no-]recurse-submodules[=<pathspec>]\n",
      "                          initialize submodules in the clone\n",
      "    --[no-]recursive ...  alias of --recurse-submodules\n",
      "    -j, --[no-]jobs <n>   number of submodules cloned in parallel\n",
      "    --[no-]template <template-directory>\n",
      "                          directory from which templates will be used\n",
      "    --[no-]reference <repo>\n",
      "                          reference repository\n",
      "    --[no-]reference-if-able <repo>\n",
      "                          reference repository\n",
      "    --[no-]dissociate     use --reference only while cloning\n",
      "    -o, --[no-]origin <name>\n",
      "                          use <name> instead of 'origin' to track upstream\n",
      "    -b, --[no-]branch <branch>\n",
      "                          checkout <branch> instead of the remote's HEAD\n",
      "    -u, --[no-]upload-pack <path>\n",
      "                          path to git-upload-pack on the remote\n",
      "    --[no-]depth <depth>  create a shallow clone of that depth\n",
      "    --[no-]shallow-since <time>\n",
      "                          create a shallow clone since a specific time\n",
      "    --[no-]shallow-exclude <revision>\n",
      "                          deepen history of shallow clone, excluding rev\n",
      "    --[no-]single-branch  clone only one branch, HEAD or --branch\n",
      "    --no-tags             don't clone any tags, and make later fetches not to follow them\n",
      "    --tags                opposite of --no-tags\n",
      "    --[no-]shallow-submodules\n",
      "                          any cloned submodules will be shallow\n",
      "    --[no-]separate-git-dir <gitdir>\n",
      "                          separate git dir from working tree\n",
      "    --[no-]ref-format <format>\n",
      "                          specify the reference format to use\n",
      "    -c, --[no-]config <key=value>\n",
      "                          set config inside the new repository\n",
      "    --[no-]server-option <server-specific>\n",
      "                          option to transmit\n",
      "    -4, --ipv4            use IPv4 addresses only\n",
      "    -6, --ipv6            use IPv6 addresses only\n",
      "    --[no-]filter <args>  object filtering\n",
      "    --[no-]also-filter-submodules\n",
      "                          apply partial clone filters to submodules\n",
      "    --[no-]remote-submodules\n",
      "                          any cloned submodules will use their remote-tracking branch\n",
      "    --[no-]sparse         initialize sparse-checkout file to include only files at root\n",
      "    --[no-]bundle-uri <uri>\n",
      "                          a URI for downloading bundles before fetching from origin remote\n",
      "\n"
     ]
    }
   ],
   "source": [
    "# clone YOLOv5 repository\n",
    "!git clone https://github.com/ultralytics/yolov5.git  # clone repo\n",
    "%cd yolov5"
   ]
  },
  {
   "cell_type": "code",
   "execution_count": 3,
   "metadata": {
    "id": "T0RLv6rJxK3n"
   },
   "outputs": [
    {
     "data": {
      "text/plain": [
       "'d:\\\\sign-language-detection-\\\\notebook'"
      ]
     },
     "execution_count": 3,
     "metadata": {},
     "output_type": "execute_result"
    }
   ],
   "source": [
    "%pwd"
   ]
  },
  {
   "cell_type": "code",
   "execution_count": 4,
   "metadata": {
    "id": "DZhDoFNXxQsX"
   },
   "outputs": [
    {
     "name": "stderr",
     "output_type": "stream",
     "text": [
      "ERROR: Invalid requirement: '#'\n",
      "c:\\conda_envs\\signlang\\lib\\site-packages\\tqdm\\auto.py:21: TqdmWarning: IProgress not found. Please update jupyter and ipywidgets. See https://ipywidgets.readthedocs.io/en/stable/user_install.html\n",
      "  from .autonotebook import tqdm as notebook_tqdm\n"
     ]
    },
    {
     "name": "stdout",
     "output_type": "stream",
     "text": [
      "Setup complete. Using torch 1.13.1+cpu CPU\n"
     ]
    }
   ],
   "source": [
    "# install dependencies as necessary\n",
    "!pip install -qr requirements.txt  # install dependencies (ignore errors)\n",
    "import torch\n",
    "\n",
    "from IPython.display import Image, clear_output  # to display images\n",
    "# from utils.google_utils import gdrive_download  # to download models/datasets\n",
    "\n",
    "# clear_output()\n",
    "print('Setup complete. Using torch %s %s' % (torch.__version__, torch.cuda.get_device_properties(0) if torch.cuda.is_available() else 'CPU'))\n"
   ]
  },
  {
   "cell_type": "code",
   "execution_count": 5,
   "metadata": {
    "id": "EzxmUfKVxTV8"
   },
   "outputs": [
    {
     "name": "stderr",
     "output_type": "stream",
     "text": [
      "'pwd' is not recognized as an internal or external command,\n",
      "operable program or batch file.\n"
     ]
    }
   ],
   "source": [
    "!pwd"
   ]
  },
  {
   "cell_type": "code",
   "execution_count": 6,
   "metadata": {
    "id": "dtrrxqnixX9s"
   },
   "outputs": [
    {
     "name": "stdout",
     "output_type": "stream",
     "text": [
      "[WinError 2] The system cannot find the file specified: '/content'\n",
      "d:\\sign-language-detection-\\notebook\n"
     ]
    },
    {
     "name": "stderr",
     "output_type": "stream",
     "text": [
      "  % Total    % Received % Xferd  Average Speed   Time    Time     Time  Current\n",
      "                                 Dload  Upload   Total   Spent    Left  Speed\n",
      "\n",
      "  0     0    0     0    0     0      0      0 --:--:-- --:--:-- --:--:--     0\n",
      "  0     0    0     0    0     0      0      0 --:--:--  0:00:01 --:--:--     0\n",
      "  0     0    0     0    0     0      0      0 --:--:--  0:00:02 --:--:--     0\n",
      "  0     0    0     0    0     0      0      0 --:--:--  0:00:02 --:--:--     0\n",
      "\n",
      "  0     0    0     0    0     0      0      0 --:--:--  0:00:02 --:--:--     0\n",
      " 15  625k   15 97388    0     0  25143      0  0:00:25  0:00:03  0:00:22  107k\n",
      " 67  625k   67  424k    0     0  89141      0  0:00:07  0:00:04  0:00:03  225k\n",
      "100  625k  100  625k    0     0   115k      0  0:00:05  0:00:05 --:--:--  257k\n",
      "curl: (3) URL rejected: Bad hostname\n",
      "  % Total    % Received % Xferd  Average Speed   Time    Time     Time  Current\n",
      "                                 Dload  Upload   Total   Spent    Left  Speed\n",
      "\n",
      "  0     0    0     0    0     0      0      0 --:--:-- --:--:-- --:--:--     0\n",
      "  0     0    0     0    0     0      0      0 --:--:-- --:--:-- --:--:--     0\n",
      "  0     0    0     0    0     0      0      0 --:--:--  0:00:01 --:--:--     0\n",
      "  0     0    0     0    0     0      0      0 --:--:--  0:00:02 --:--:--     0curl: (6) Could not resolve host: unzip\n",
      "curl: (3) URL rejected: Bad hostname\n",
      "  % Total    % Received % Xferd  Average Speed   Time    Time     Time  Current\n",
      "                                 Dload  Upload   Total   Spent    Left  Speed\n",
      "\n",
      "  0     0    0     0    0     0      0      0 --:--:-- --:--:-- --:--:--     0\n",
      "  0     0    0     0    0     0      0      0 --:--:-- --:--:-- --:--:--     0\n",
      "  0     0    0     0    0     0      0      0 --:--:--  0:00:01 --:--:--     0curl: (6) Could not resolve host: rm\n",
      "  % Total    % Received % Xferd  Average Speed   Time    Time     Time  Current\n",
      "                                 Dload  Upload   Total   Spent    Left  Speed\n",
      "\n",
      "  0     0    0     0    0     0      0      0 --:--:-- --:--:-- --:--:--     0\n",
      "  0     0    0     0    0     0      0      0 --:--:-- --:--:-- --:--:--     0curl: (6) Could not resolve host: SignData.zip\n"
     ]
    }
   ],
   "source": [
    "# Export code snippet and paste here\n",
    "%cd /content\n",
    "!curl -L \"https://github.com/SURESHBEEKHANI/Image_Dataset/raw/refs/heads/main/suresh.v1i.yolov5pytorch.zip\" > SignData.zip; unzip SignData.zip; rm SignData.zip\n"
   ]
  },
  {
   "cell_type": "code",
   "execution_count": 7,
   "metadata": {
    "id": "ywPN69yzxjYN"
   },
   "outputs": [
    {
     "name": "stderr",
     "output_type": "stream",
     "text": [
      "UsageError: Line magic function `%cat` not found.\n"
     ]
    }
   ],
   "source": [
    "\n",
    "# this is the YAML file  we're loading into this notebook with our data\n",
    "%cat data.yaml\n"
   ]
  },
  {
   "cell_type": "code",
   "execution_count": null,
   "metadata": {
    "id": "8M4A-Z9TxmW0"
   },
   "outputs": [],
   "source": [
    "# define number of classes based on YAML\n",
    "import yaml\n",
    "with open(\"data.yaml\", 'r') as stream:\n",
    "    num_classes = str(yaml.safe_load(stream)['nc'])\n"
   ]
  },
  {
   "cell_type": "code",
   "execution_count": null,
   "metadata": {
    "id": "6uT-CcepxpcW"
   },
   "outputs": [],
   "source": [
    "num_classes"
   ]
  },
  {
   "cell_type": "code",
   "execution_count": null,
   "metadata": {
    "id": "DClt8vysxvde"
   },
   "outputs": [],
   "source": [
    "\n",
    "#this is the model configuration we will use\n",
    "%cat /content/yolov5/models/yolov5s.yaml"
   ]
  },
  {
   "cell_type": "code",
   "execution_count": null,
   "metadata": {
    "id": "bXcEoXtcxzjN"
   },
   "outputs": [],
   "source": [
    "#customize iPython writefile so we can write variables\n",
    "from IPython.core.magic import register_line_cell_magic\n",
    "\n",
    "@register_line_cell_magic\n",
    "def writetemplate(line, cell):\n",
    "    with open(line, 'w') as f:\n",
    "        f.write(cell.format(**globals()))\n"
   ]
  },
  {
   "cell_type": "code",
   "execution_count": null,
   "metadata": {
    "id": "HxJNWky_x4rY"
   },
   "outputs": [],
   "source": [
    "%%writetemplate /content/yolov5/models/custom_yolov5s.yaml\n",
    "\n",
    "# parameters\n",
    "nc: {num_classes}  # number of classes\n",
    "depth_multiple: 0.33  # model depth multiple\n",
    "width_multiple: 0.50  # layer channel multiple\n",
    "\n",
    "# anchors\n",
    "anchors:\n",
    "  - [10,13, 16,30, 33,23]  # P3/8\n",
    "  - [30,61, 62,45, 59,119]  # P4/16\n",
    "  - [116,90, 156,198, 373,326]  # P5/32\n",
    "\n",
    "# YOLOv5 backbone\n",
    "backbone:\n",
    "  # [from, number, module, args]\n",
    "  [[-1, 1, Focus, [64, 3]],  # 0-P1/2\n",
    "   [-1, 1, Conv, [128, 3, 2]],  # 1-P2/4\n",
    "   [-1, 3, BottleneckCSP, [128]],\n",
    "   [-1, 1, Conv, [256, 3, 2]],  # 3-P3/8\n",
    "   [-1, 9, BottleneckCSP, [256]],\n",
    "   [-1, 1, Conv, [512, 3, 2]],  # 5-P4/16\n",
    "   [-1, 9, BottleneckCSP, [512]],\n",
    "   [-1, 1, Conv, [1024, 3, 2]],  # 7-P5/32\n",
    "   [-1, 1, SPP, [1024, [5, 9, 13]]],\n",
    "   [-1, 3, BottleneckCSP, [1024, False]],  # 9\n",
    "  ]\n",
    "\n",
    "# YOLOv5 head\n",
    "head:\n",
    "  [[-1, 1, Conv, [512, 1, 1]],\n",
    "   [-1, 1, nn.Upsample, [None, 2, 'nearest']],\n",
    "   [[-1, 6], 1, Concat, [1]],  # cat backbone P4\n",
    "   [-1, 3, BottleneckCSP, [512, False]],  # 13\n",
    "\n",
    "   [-1, 1, Conv, [256, 1, 1]],\n",
    "   [-1, 1, nn.Upsample, [None, 2, 'nearest']],\n",
    "   [[-1, 4], 1, Concat, [1]],  # cat backbone P3\n",
    "   [-1, 3, BottleneckCSP, [256, False]],  # 17 (P3/8-small)\n",
    "\n",
    "   [-1, 1, Conv, [256, 3, 2]],\n",
    "   [[-1, 14], 1, Concat, [1]],  # cat head P4\n",
    "   [-1, 3, BottleneckCSP, [512, False]],  # 20 (P4/16-medium)\n",
    "\n",
    "   [-1, 1, Conv, [512, 3, 2]],\n",
    "   [[-1, 10], 1, Concat, [1]],  # cat head P5\n",
    "   [-1, 3, BottleneckCSP, [1024, False]],  # 23 (P5/32-large)\n",
    "\n",
    "   [[17, 20, 23], 1, Detect, [nc, anchors]],  # Detect(P3, P4, P5)\n",
    "  ]"
   ]
  },
  {
   "cell_type": "code",
   "execution_count": null,
   "metadata": {
    "id": "69yExmpKyLF8"
   },
   "outputs": [],
   "source": [
    "%%time\n",
    "%cd /content/yolov5/\n",
    "!python train.py --img 416 --batch 16 --epochs 300 --data '../data.yaml' --cfg ./models/custom_yolov5s.yaml --weights 'yolov5s.pt' --name yolov5s_results --cache\n"
   ]
  },
  {
   "cell_type": "code",
   "execution_count": null,
   "metadata": {
    "id": "4iSmMtez1DtS"
   },
   "outputs": [],
   "source": [
    "\n",
    "# Start tensorboard\n",
    "# Launch after you have started training\n",
    "# logs save in the folder \"runs\"\n",
    "%load_ext tensorboard\n",
    "%tensorboard --logdir runs"
   ]
  },
  {
   "cell_type": "code",
   "execution_count": null,
   "metadata": {
    "id": "_SGb92ey1X16"
   },
   "outputs": [],
   "source": [
    "\n",
    "!nvidia-smi"
   ]
  },
  {
   "cell_type": "code",
   "execution_count": null,
   "metadata": {
    "id": "Ds2eJ3crkjSo"
   },
   "outputs": [],
   "source": [
    "!ls /content/yolov5/runs/train\n"
   ]
  },
  {
   "cell_type": "code",
   "execution_count": null,
   "metadata": {
    "id": "pqo3nIRfk5u3"
   },
   "outputs": [],
   "source": [
    "!ls /content/yolov5/runs/train/yolov5s_results\n",
    "!ls /content/yolov5/runs/train/yolov5s_results2\n",
    "!ls /content/yolov5/runs/train/yolov5s_results3\n"
   ]
  },
  {
   "cell_type": "code",
   "execution_count": null,
   "metadata": {
    "id": "ofwygMaukxn9"
   },
   "outputs": [],
   "source": [
    "from IPython.display import Image\n",
    "Image(filename='/content/yolov5/runs/train/yolov5s_results4/results.png', width=1000)\n"
   ]
  },
  {
   "cell_type": "code",
   "execution_count": null,
   "metadata": {
    "id": "r3Xktbtjo8bn"
   },
   "outputs": [],
   "source": [
    "!ls /content/yolov5/runs/train/yolov5s_results\n",
    "!ls /content/yolov5/runs/train/yolov5s_results4  # Check if it’s in a newer folder\n"
   ]
  },
  {
   "cell_type": "code",
   "execution_count": null,
   "metadata": {
    "id": "AY1mlCy01mcR"
   },
   "outputs": [],
   "source": [
    "from IPython.display import Image\n",
    "print(\"GROUND TRUTH TRAINING DATA:\")\n",
    "Image(filename='/content/yolov5/runs/train/yolov5s_results4/val_batch0_labels.jpg', width=1000)\n"
   ]
  },
  {
   "cell_type": "code",
   "execution_count": null,
   "metadata": {
    "id": "kjGMLE9v1tK9"
   },
   "outputs": [],
   "source": [
    "from IPython.display import Image\n",
    "print(\"GROUND TRUTH AUGMENTED TRAINING DATA:\")\n",
    "Image(filename='/content/yolov5/runs/train/yolov5s_results4/train_batch0.jpg', width=900)\n"
   ]
  },
  {
   "cell_type": "code",
   "execution_count": null,
   "metadata": {
    "id": "0j7DQi9TwTmE"
   },
   "outputs": [],
   "source": [
    "\n",
    "# trained weights are saved by default in our weights folder\n",
    "%ls runs/\n"
   ]
  },
  {
   "cell_type": "code",
   "execution_count": null,
   "metadata": {
    "id": "xA92EC7Gwca7"
   },
   "outputs": [],
   "source": [
    "%ls runs/train/yolov5s_results4/weights"
   ]
  },
  {
   "cell_type": "code",
   "execution_count": null,
   "metadata": {
    "id": "D-K5W68mwmou"
   },
   "outputs": [],
   "source": [
    "# when we ran this, we saw .007 second inference time. That is 140 FPS on a TESLA P100!\n",
    "# use the best weights!\n",
    "%cd /content/yolov5/\n",
    "!python detect.py --weights runs/train/yolov5s_results4/weights/best.pt --img 416 --conf 0.5 --source ../test/images"
   ]
  },
  {
   "cell_type": "code",
   "execution_count": null,
   "metadata": {
    "id": "qZMyivjozBj2"
   },
   "outputs": [],
   "source": [
    "\n",
    "#display inference on ALL test images\n",
    "#this looks much better with longer training above\n",
    "\n",
    "import glob\n",
    "from IPython.display import Image, display\n",
    "\n",
    "for imageName in glob.glob('/content/yolov5/runs/detect/exp*.jpg'): #assuming JPG\n",
    "    display(Image(filename=imageName))\n",
    "    print(\"\\n\")\n"
   ]
  },
  {
   "cell_type": "code",
   "execution_count": null,
   "metadata": {
    "id": "N_NscxzRzH1g"
   },
   "outputs": [],
   "source": [
    "from google.colab import drive\n",
    "drive.mount('/content/gdrive')\n"
   ]
  },
  {
   "cell_type": "code",
   "execution_count": null,
   "metadata": {
    "id": "CzkGcimvzUyM"
   },
   "outputs": [],
   "source": [
    "%cp /content/yolov5/runs/train/yolov5s_results/weights/best.pt /content/gdrive/MyDrive/Research/SignLanguageDetection/model\n"
   ]
  }
 ],
 "metadata": {
  "accelerator": "GPU",
  "colab": {
   "gpuType": "T4",
   "private_outputs": true,
   "provenance": []
  },
  "kernelspec": {
   "display_name": "signlang",
   "language": "python",
   "name": "python3"
  },
  "language_info": {
   "codemirror_mode": {
    "name": "ipython",
    "version": 3
   },
   "file_extension": ".py",
   "mimetype": "text/x-python",
   "name": "python",
   "nbconvert_exporter": "python",
   "pygments_lexer": "ipython3",
   "version": "3.7.16"
  }
 },
 "nbformat": 4,
 "nbformat_minor": 0
}
